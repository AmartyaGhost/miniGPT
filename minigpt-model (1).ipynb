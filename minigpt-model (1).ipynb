{
 "cells": [
  {
   "cell_type": "markdown",
   "id": "cf0600ba",
   "metadata": {
    "id": "wJpXpmjEYC_T",
    "papermill": {
     "duration": 0.005459,
     "end_time": "2025-08-06T18:09:26.138846",
     "exception": false,
     "start_time": "2025-08-06T18:09:26.133387",
     "status": "completed"
    },
    "tags": []
   },
   "source": [
    "## miniGPT model"
   ]
  },
  {
   "cell_type": "code",
   "execution_count": 1,
   "id": "213f218a",
   "metadata": {
    "execution": {
     "iopub.execute_input": "2025-08-06T18:09:26.149194Z",
     "iopub.status.busy": "2025-08-06T18:09:26.148942Z",
     "iopub.status.idle": "2025-08-06T18:09:26.175468Z",
     "shell.execute_reply": "2025-08-06T18:09:26.174960Z"
    },
    "id": "O6medjfRsLD9",
    "papermill": {
     "duration": 0.0329,
     "end_time": "2025-08-06T18:09:26.176578",
     "exception": false,
     "start_time": "2025-08-06T18:09:26.143678",
     "status": "completed"
    },
    "tags": []
   },
   "outputs": [],
   "source": [
    "# Inspect\n",
    "with open('/kaggle/input/inputtxt/input.txt', 'r', encoding='utf-8') as f:\n",
    "    text = f.read()"
   ]
  },
  {
   "cell_type": "code",
   "execution_count": 2,
   "id": "0a9dc1cc",
   "metadata": {
    "execution": {
     "iopub.execute_input": "2025-08-06T18:09:26.186331Z",
     "iopub.status.busy": "2025-08-06T18:09:26.186105Z",
     "iopub.status.idle": "2025-08-06T18:09:26.189924Z",
     "shell.execute_reply": "2025-08-06T18:09:26.189366Z"
    },
    "id": "6xWI_VyAsN8F",
    "outputId": "5ec4449e-8b9f-4091-fa79-57ade8027865",
    "papermill": {
     "duration": 0.00989,
     "end_time": "2025-08-06T18:09:26.191012",
     "exception": false,
     "start_time": "2025-08-06T18:09:26.181122",
     "status": "completed"
    },
    "tags": []
   },
   "outputs": [
    {
     "name": "stdout",
     "output_type": "stream",
     "text": [
      "length of dataset in characters:  1115394\n"
     ]
    }
   ],
   "source": [
    "print(\"length of dataset in characters: \", len(text))"
   ]
  },
  {
   "cell_type": "code",
   "execution_count": 3,
   "id": "00f2a469",
   "metadata": {
    "execution": {
     "iopub.execute_input": "2025-08-06T18:09:26.201190Z",
     "iopub.status.busy": "2025-08-06T18:09:26.200596Z",
     "iopub.status.idle": "2025-08-06T18:09:26.204522Z",
     "shell.execute_reply": "2025-08-06T18:09:26.203779Z"
    },
    "id": "2c5V0FvqseE0",
    "outputId": "d68a3f00-a243-4ccf-ff9b-223c6a45c5c9",
    "papermill": {
     "duration": 0.009971,
     "end_time": "2025-08-06T18:09:26.205550",
     "exception": false,
     "start_time": "2025-08-06T18:09:26.195579",
     "status": "completed"
    },
    "tags": []
   },
   "outputs": [
    {
     "name": "stdout",
     "output_type": "stream",
     "text": [
      "First Citizen:\n",
      "Before we proceed any further, hear me speak.\n",
      "\n",
      "All:\n",
      "Speak, speak.\n",
      "\n",
      "First Citizen:\n",
      "You are all resolved rather to die than to famish?\n",
      "\n",
      "All:\n",
      "Resolved. resolved.\n",
      "\n",
      "First Citizen:\n",
      "First, you know Caius Marcius is chief enemy to the people.\n",
      "\n",
      "All:\n",
      "We know't, we know't.\n",
      "\n",
      "First Citizen:\n",
      "Let us kill him, and we'll have corn at our own price.\n",
      "Is't a verdict?\n",
      "\n",
      "All:\n",
      "No more talking on't; let it be done: away, away!\n",
      "\n",
      "Second Citizen:\n",
      "One word, good citizens.\n",
      "\n",
      "First Citizen:\n",
      "We are accounted poor citizens, the patricians good.\n",
      "What authority surfeits on would relieve us: if they\n",
      "would yield us but the superfluity, while it were\n",
      "wholesome, we might guess they relieved us humanely;\n",
      "but they think we are too dear: the leanness that\n",
      "afflicts us, the object of our misery, is as an\n",
      "inventory to particularise their abundance; our\n",
      "sufferance is a gain to them Let us revenge this with\n",
      "our pikes, ere we become rakes: for the gods know I\n",
      "speak this in hunger for bread, not in thirst for revenge.\n",
      "\n",
      "\n"
     ]
    }
   ],
   "source": [
    "# looking at the first 1000 characters\n",
    "print(text[:1000])"
   ]
  },
  {
   "cell_type": "code",
   "execution_count": 4,
   "id": "8e8058ca",
   "metadata": {
    "execution": {
     "iopub.execute_input": "2025-08-06T18:09:26.215713Z",
     "iopub.status.busy": "2025-08-06T18:09:26.215523Z",
     "iopub.status.idle": "2025-08-06T18:09:26.228730Z",
     "shell.execute_reply": "2025-08-06T18:09:26.228062Z"
    },
    "id": "0e-Rbyr8sfM8",
    "outputId": "9e8e9476-1270-4b1e-8ce6-acd94abb23c1",
    "papermill": {
     "duration": 0.019538,
     "end_time": "2025-08-06T18:09:26.229876",
     "exception": false,
     "start_time": "2025-08-06T18:09:26.210338",
     "status": "completed"
    },
    "tags": []
   },
   "outputs": [
    {
     "name": "stdout",
     "output_type": "stream",
     "text": [
      "\n",
      " !$&',-.3:;?ABCDEFGHIJKLMNOPQRSTUVWXYZabcdefghijklmnopqrstuvwxyz\n",
      "65\n"
     ]
    }
   ],
   "source": [
    "# here are all the unique characters that occur in this text\n",
    "chars = sorted(list(set(text)))\n",
    "vocab_size = len(chars)\n",
    "print(''.join(chars))\n",
    "print(vocab_size)"
   ]
  },
  {
   "cell_type": "code",
   "execution_count": 5,
   "id": "ab52ad67",
   "metadata": {
    "execution": {
     "iopub.execute_input": "2025-08-06T18:09:26.240091Z",
     "iopub.status.busy": "2025-08-06T18:09:26.239808Z",
     "iopub.status.idle": "2025-08-06T18:09:26.244532Z",
     "shell.execute_reply": "2025-08-06T18:09:26.243865Z"
    },
    "id": "Yw1LKNCgwjj1",
    "outputId": "f5faa7fc-56fd-4b4f-b859-dadb3eb45aa0",
    "papermill": {
     "duration": 0.010918,
     "end_time": "2025-08-06T18:09:26.245551",
     "exception": false,
     "start_time": "2025-08-06T18:09:26.234633",
     "status": "completed"
    },
    "tags": []
   },
   "outputs": [
    {
     "name": "stdout",
     "output_type": "stream",
     "text": [
      "[46, 47, 47, 1, 58, 46, 43, 56, 43]\n",
      "hii there\n"
     ]
    }
   ],
   "source": [
    "# creating a mapping from characters to integers\n",
    "stoi = { ch:i for i,ch in enumerate(chars) }\n",
    "itos = { i:ch for i,ch in enumerate(chars) }\n",
    "encode = lambda s: [stoi[c] for c in s] # encoder: take a string, output a list of integers\n",
    "decode = lambda l: ''.join([itos[i] for i in l]) # decoder: take a list of integers, output a string\n",
    "\n",
    "print(encode(\"hii there\"))\n",
    "print(decode(encode(\"hii there\")))"
   ]
  },
  {
   "cell_type": "code",
   "execution_count": 6,
   "id": "79ed4844",
   "metadata": {
    "execution": {
     "iopub.execute_input": "2025-08-06T18:09:26.256355Z",
     "iopub.status.busy": "2025-08-06T18:09:26.256161Z",
     "iopub.status.idle": "2025-08-06T18:09:31.031874Z",
     "shell.execute_reply": "2025-08-06T18:09:31.030874Z"
    },
    "id": "YJb0OXPwzvqg",
    "outputId": "635b5862-15b8-495f-f729-3351be8f187b",
    "papermill": {
     "duration": 4.782939,
     "end_time": "2025-08-06T18:09:31.033250",
     "exception": false,
     "start_time": "2025-08-06T18:09:26.250311",
     "status": "completed"
    },
    "tags": []
   },
   "outputs": [
    {
     "name": "stdout",
     "output_type": "stream",
     "text": [
      "torch.Size([1115394]) torch.int64\n",
      "tensor([18, 47, 56, 57, 58,  1, 15, 47, 58, 47, 64, 43, 52, 10,  0, 14, 43, 44,\n",
      "        53, 56, 43,  1, 61, 43,  1, 54, 56, 53, 41, 43, 43, 42,  1, 39, 52, 63,\n",
      "         1, 44, 59, 56, 58, 46, 43, 56,  6,  1, 46, 43, 39, 56,  1, 51, 43,  1,\n",
      "        57, 54, 43, 39, 49,  8,  0,  0, 13, 50, 50, 10,  0, 31, 54, 43, 39, 49,\n",
      "         6,  1, 57, 54, 43, 39, 49,  8,  0,  0, 18, 47, 56, 57, 58,  1, 15, 47,\n",
      "        58, 47, 64, 43, 52, 10,  0, 37, 53, 59,  1, 39, 56, 43,  1, 39, 50, 50,\n",
      "         1, 56, 43, 57, 53, 50, 60, 43, 42,  1, 56, 39, 58, 46, 43, 56,  1, 58,\n",
      "        53,  1, 42, 47, 43,  1, 58, 46, 39, 52,  1, 58, 53,  1, 44, 39, 51, 47,\n",
      "        57, 46, 12,  0,  0, 13, 50, 50, 10,  0, 30, 43, 57, 53, 50, 60, 43, 42,\n",
      "         8,  1, 56, 43, 57, 53, 50, 60, 43, 42,  8,  0,  0, 18, 47, 56, 57, 58,\n",
      "         1, 15, 47, 58, 47, 64, 43, 52, 10,  0, 18, 47, 56, 57, 58,  6,  1, 63,\n",
      "        53, 59,  1, 49, 52, 53, 61,  1, 15, 39, 47, 59, 57,  1, 25, 39, 56, 41,\n",
      "        47, 59, 57,  1, 47, 57,  1, 41, 46, 47, 43, 44,  1, 43, 52, 43, 51, 63,\n",
      "         1, 58, 53,  1, 58, 46, 43,  1, 54, 43, 53, 54, 50, 43,  8,  0,  0, 13,\n",
      "        50, 50, 10,  0, 35, 43,  1, 49, 52, 53, 61,  5, 58,  6,  1, 61, 43,  1,\n",
      "        49, 52, 53, 61,  5, 58,  8,  0,  0, 18, 47, 56, 57, 58,  1, 15, 47, 58,\n",
      "        47, 64, 43, 52, 10,  0, 24, 43, 58,  1, 59, 57,  1, 49, 47, 50, 50,  1,\n",
      "        46, 47, 51,  6,  1, 39, 52, 42,  1, 61, 43,  5, 50, 50,  1, 46, 39, 60,\n",
      "        43,  1, 41, 53, 56, 52,  1, 39, 58,  1, 53, 59, 56,  1, 53, 61, 52,  1,\n",
      "        54, 56, 47, 41, 43,  8,  0, 21, 57,  5, 58,  1, 39,  1, 60, 43, 56, 42,\n",
      "        47, 41, 58, 12,  0,  0, 13, 50, 50, 10,  0, 26, 53,  1, 51, 53, 56, 43,\n",
      "         1, 58, 39, 50, 49, 47, 52, 45,  1, 53, 52,  5, 58, 11,  1, 50, 43, 58,\n",
      "         1, 47, 58,  1, 40, 43,  1, 42, 53, 52, 43, 10,  1, 39, 61, 39, 63,  6,\n",
      "         1, 39, 61, 39, 63,  2,  0,  0, 31, 43, 41, 53, 52, 42,  1, 15, 47, 58,\n",
      "        47, 64, 43, 52, 10,  0, 27, 52, 43,  1, 61, 53, 56, 42,  6,  1, 45, 53,\n",
      "        53, 42,  1, 41, 47, 58, 47, 64, 43, 52, 57,  8,  0,  0, 18, 47, 56, 57,\n",
      "        58,  1, 15, 47, 58, 47, 64, 43, 52, 10,  0, 35, 43,  1, 39, 56, 43,  1,\n",
      "        39, 41, 41, 53, 59, 52, 58, 43, 42,  1, 54, 53, 53, 56,  1, 41, 47, 58,\n",
      "        47, 64, 43, 52, 57,  6,  1, 58, 46, 43,  1, 54, 39, 58, 56, 47, 41, 47,\n",
      "        39, 52, 57,  1, 45, 53, 53, 42,  8,  0, 35, 46, 39, 58,  1, 39, 59, 58,\n",
      "        46, 53, 56, 47, 58, 63,  1, 57, 59, 56, 44, 43, 47, 58, 57,  1, 53, 52,\n",
      "         1, 61, 53, 59, 50, 42,  1, 56, 43, 50, 47, 43, 60, 43,  1, 59, 57, 10,\n",
      "         1, 47, 44,  1, 58, 46, 43, 63,  0, 61, 53, 59, 50, 42,  1, 63, 47, 43,\n",
      "        50, 42,  1, 59, 57,  1, 40, 59, 58,  1, 58, 46, 43,  1, 57, 59, 54, 43,\n",
      "        56, 44, 50, 59, 47, 58, 63,  6,  1, 61, 46, 47, 50, 43,  1, 47, 58,  1,\n",
      "        61, 43, 56, 43,  0, 61, 46, 53, 50, 43, 57, 53, 51, 43,  6,  1, 61, 43,\n",
      "         1, 51, 47, 45, 46, 58,  1, 45, 59, 43, 57, 57,  1, 58, 46, 43, 63,  1,\n",
      "        56, 43, 50, 47, 43, 60, 43, 42,  1, 59, 57,  1, 46, 59, 51, 39, 52, 43,\n",
      "        50, 63, 11,  0, 40, 59, 58,  1, 58, 46, 43, 63,  1, 58, 46, 47, 52, 49,\n",
      "         1, 61, 43,  1, 39, 56, 43,  1, 58, 53, 53,  1, 42, 43, 39, 56, 10,  1,\n",
      "        58, 46, 43,  1, 50, 43, 39, 52, 52, 43, 57, 57,  1, 58, 46, 39, 58,  0,\n",
      "        39, 44, 44, 50, 47, 41, 58, 57,  1, 59, 57,  6,  1, 58, 46, 43,  1, 53,\n",
      "        40, 48, 43, 41, 58,  1, 53, 44,  1, 53, 59, 56,  1, 51, 47, 57, 43, 56,\n",
      "        63,  6,  1, 47, 57,  1, 39, 57,  1, 39, 52,  0, 47, 52, 60, 43, 52, 58,\n",
      "        53, 56, 63,  1, 58, 53,  1, 54, 39, 56, 58, 47, 41, 59, 50, 39, 56, 47,\n",
      "        57, 43,  1, 58, 46, 43, 47, 56,  1, 39, 40, 59, 52, 42, 39, 52, 41, 43,\n",
      "        11,  1, 53, 59, 56,  0, 57, 59, 44, 44, 43, 56, 39, 52, 41, 43,  1, 47,\n",
      "        57,  1, 39,  1, 45, 39, 47, 52,  1, 58, 53,  1, 58, 46, 43, 51,  1, 24,\n",
      "        43, 58,  1, 59, 57,  1, 56, 43, 60, 43, 52, 45, 43,  1, 58, 46, 47, 57,\n",
      "         1, 61, 47, 58, 46,  0, 53, 59, 56,  1, 54, 47, 49, 43, 57,  6,  1, 43,\n",
      "        56, 43,  1, 61, 43,  1, 40, 43, 41, 53, 51, 43,  1, 56, 39, 49, 43, 57,\n",
      "        10,  1, 44, 53, 56,  1, 58, 46, 43,  1, 45, 53, 42, 57,  1, 49, 52, 53,\n",
      "        61,  1, 21,  0, 57, 54, 43, 39, 49,  1, 58, 46, 47, 57,  1, 47, 52,  1,\n",
      "        46, 59, 52, 45, 43, 56,  1, 44, 53, 56,  1, 40, 56, 43, 39, 42,  6,  1,\n",
      "        52, 53, 58,  1, 47, 52,  1, 58, 46, 47, 56, 57, 58,  1, 44, 53, 56,  1,\n",
      "        56, 43, 60, 43, 52, 45, 43,  8,  0,  0])\n"
     ]
    }
   ],
   "source": [
    "# encoding the entire text dataset and storing it into a torch.Tensor\n",
    "import torch # we use PyTorch: https://pytorch.org\n",
    "data = torch.tensor(encode(text), dtype=torch.long)\n",
    "print(data.shape, data.dtype)\n",
    "print(data[:1000]) # the 1000 characters we looked at earier will to the GPT look like this"
   ]
  },
  {
   "cell_type": "code",
   "execution_count": 7,
   "id": "cf7d4c85",
   "metadata": {
    "execution": {
     "iopub.execute_input": "2025-08-06T18:09:31.044916Z",
     "iopub.status.busy": "2025-08-06T18:09:31.044591Z",
     "iopub.status.idle": "2025-08-06T18:09:31.048474Z",
     "shell.execute_reply": "2025-08-06T18:09:31.047759Z"
    },
    "id": "f_WIXqxz0lU5",
    "papermill": {
     "duration": 0.010853,
     "end_time": "2025-08-06T18:09:31.049558",
     "exception": false,
     "start_time": "2025-08-06T18:09:31.038705",
     "status": "completed"
    },
    "tags": []
   },
   "outputs": [],
   "source": [
    "# Splitting up the data into train and validation sets\n",
    "n = int(0.9*len(data)) # first 90% will be train, rest val\n",
    "train_data = data[:n]\n",
    "val_data = data[n:]"
   ]
  },
  {
   "cell_type": "code",
   "execution_count": 8,
   "id": "aa3f5daf",
   "metadata": {
    "execution": {
     "iopub.execute_input": "2025-08-06T18:09:31.060983Z",
     "iopub.status.busy": "2025-08-06T18:09:31.060716Z",
     "iopub.status.idle": "2025-08-06T18:09:31.066997Z",
     "shell.execute_reply": "2025-08-06T18:09:31.066150Z"
    },
    "id": "TD5Bj8Y6IAD4",
    "outputId": "1f2e6dbd-5ded-44d8-8b34-2124335b5732",
    "papermill": {
     "duration": 0.013765,
     "end_time": "2025-08-06T18:09:31.068223",
     "exception": false,
     "start_time": "2025-08-06T18:09:31.054458",
     "status": "completed"
    },
    "tags": []
   },
   "outputs": [
    {
     "data": {
      "text/plain": [
       "tensor([18, 47, 56, 57, 58,  1, 15, 47, 58])"
      ]
     },
     "execution_count": 8,
     "metadata": {},
     "output_type": "execute_result"
    }
   ],
   "source": [
    "block_size = 8\n",
    "train_data[:block_size+1]"
   ]
  },
  {
   "cell_type": "code",
   "execution_count": 9,
   "id": "e8c4397c",
   "metadata": {
    "execution": {
     "iopub.execute_input": "2025-08-06T18:09:31.081366Z",
     "iopub.status.busy": "2025-08-06T18:09:31.080741Z",
     "iopub.status.idle": "2025-08-06T18:09:31.088620Z",
     "shell.execute_reply": "2025-08-06T18:09:31.087895Z"
    },
    "id": "9HXDe8vGJCEn",
    "outputId": "77227054-2563-49a3-f82c-fd540df3100c",
    "papermill": {
     "duration": 0.015743,
     "end_time": "2025-08-06T18:09:31.089935",
     "exception": false,
     "start_time": "2025-08-06T18:09:31.074192",
     "status": "completed"
    },
    "tags": []
   },
   "outputs": [
    {
     "name": "stdout",
     "output_type": "stream",
     "text": [
      "when input is tensor([18]) the target: 47\n",
      "when input is tensor([18, 47]) the target: 56\n",
      "when input is tensor([18, 47, 56]) the target: 57\n",
      "when input is tensor([18, 47, 56, 57]) the target: 58\n",
      "when input is tensor([18, 47, 56, 57, 58]) the target: 1\n",
      "when input is tensor([18, 47, 56, 57, 58,  1]) the target: 15\n",
      "when input is tensor([18, 47, 56, 57, 58,  1, 15]) the target: 47\n",
      "when input is tensor([18, 47, 56, 57, 58,  1, 15, 47]) the target: 58\n"
     ]
    }
   ],
   "source": [
    "x = train_data[:block_size]\n",
    "y = train_data[1:block_size+1]\n",
    "for t in range(block_size):\n",
    "    context = x[:t+1]\n",
    "    target = y[t]\n",
    "    print(f\"when input is {context} the target: {target}\")"
   ]
  },
  {
   "cell_type": "code",
   "execution_count": 10,
   "id": "d8cdcfee",
   "metadata": {
    "execution": {
     "iopub.execute_input": "2025-08-06T18:09:31.102241Z",
     "iopub.status.busy": "2025-08-06T18:09:31.102003Z",
     "iopub.status.idle": "2025-08-06T18:09:31.137016Z",
     "shell.execute_reply": "2025-08-06T18:09:31.136118Z"
    },
    "id": "Q3k1Czf7LuA9",
    "outputId": "b9e2c550-ba91-4e1a-bedb-2170e5187cc1",
    "papermill": {
     "duration": 0.042383,
     "end_time": "2025-08-06T18:09:31.138172",
     "exception": false,
     "start_time": "2025-08-06T18:09:31.095789",
     "status": "completed"
    },
    "tags": []
   },
   "outputs": [
    {
     "name": "stdout",
     "output_type": "stream",
     "text": [
      "inputs:\n",
      "torch.Size([4, 8])\n",
      "tensor([[24, 43, 58,  5, 57,  1, 46, 43],\n",
      "        [44, 53, 56,  1, 58, 46, 39, 58],\n",
      "        [52, 58,  1, 58, 46, 39, 58,  1],\n",
      "        [25, 17, 27, 10,  0, 21,  1, 54]])\n",
      "targets:\n",
      "torch.Size([4, 8])\n",
      "tensor([[43, 58,  5, 57,  1, 46, 43, 39],\n",
      "        [53, 56,  1, 58, 46, 39, 58,  1],\n",
      "        [58,  1, 58, 46, 39, 58,  1, 46],\n",
      "        [17, 27, 10,  0, 21,  1, 54, 39]])\n",
      "----\n",
      "when input is [24] the target: 43\n",
      "when input is [24, 43] the target: 58\n",
      "when input is [24, 43, 58] the target: 5\n",
      "when input is [24, 43, 58, 5] the target: 57\n",
      "when input is [24, 43, 58, 5, 57] the target: 1\n",
      "when input is [24, 43, 58, 5, 57, 1] the target: 46\n",
      "when input is [24, 43, 58, 5, 57, 1, 46] the target: 43\n",
      "when input is [24, 43, 58, 5, 57, 1, 46, 43] the target: 39\n",
      "when input is [44] the target: 53\n",
      "when input is [44, 53] the target: 56\n",
      "when input is [44, 53, 56] the target: 1\n",
      "when input is [44, 53, 56, 1] the target: 58\n",
      "when input is [44, 53, 56, 1, 58] the target: 46\n",
      "when input is [44, 53, 56, 1, 58, 46] the target: 39\n",
      "when input is [44, 53, 56, 1, 58, 46, 39] the target: 58\n",
      "when input is [44, 53, 56, 1, 58, 46, 39, 58] the target: 1\n",
      "when input is [52] the target: 58\n",
      "when input is [52, 58] the target: 1\n",
      "when input is [52, 58, 1] the target: 58\n",
      "when input is [52, 58, 1, 58] the target: 46\n",
      "when input is [52, 58, 1, 58, 46] the target: 39\n",
      "when input is [52, 58, 1, 58, 46, 39] the target: 58\n",
      "when input is [52, 58, 1, 58, 46, 39, 58] the target: 1\n",
      "when input is [52, 58, 1, 58, 46, 39, 58, 1] the target: 46\n",
      "when input is [25] the target: 17\n",
      "when input is [25, 17] the target: 27\n",
      "when input is [25, 17, 27] the target: 10\n",
      "when input is [25, 17, 27, 10] the target: 0\n",
      "when input is [25, 17, 27, 10, 0] the target: 21\n",
      "when input is [25, 17, 27, 10, 0, 21] the target: 1\n",
      "when input is [25, 17, 27, 10, 0, 21, 1] the target: 54\n",
      "when input is [25, 17, 27, 10, 0, 21, 1, 54] the target: 39\n"
     ]
    }
   ],
   "source": [
    "torch.manual_seed(1337)\n",
    "batch_size = 4 # how many independent sequences will we process in parallel?\n",
    "block_size = 8 # what is the maximum context length for predictions?\n",
    "\n",
    "def get_batch(split):\n",
    "    # generating a small batch of data of inputs x and targets y\n",
    "    data = train_data if split == 'train' else val_data\n",
    "    ix = torch.randint(len(data) - block_size, (batch_size,))\n",
    "    x = torch.stack([data[i:i+block_size] for i in ix])\n",
    "    y = torch.stack([data[i+1:i+block_size+1] for i in ix])\n",
    "    return x, y\n",
    "\n",
    "xb, yb = get_batch('train')\n",
    "print('inputs:')\n",
    "print(xb.shape)\n",
    "print(xb)\n",
    "print('targets:')\n",
    "print(yb.shape)\n",
    "print(yb)\n",
    "\n",
    "print('----')\n",
    "\n",
    "for b in range(batch_size): # batch dimension\n",
    "    for t in range(block_size): # time dimension\n",
    "        context = xb[b, :t+1]\n",
    "        target = yb[b,t]\n",
    "        print(f\"when input is {context.tolist()} the target: {target}\")"
   ]
  },
  {
   "cell_type": "code",
   "execution_count": 11,
   "id": "b4b6100d",
   "metadata": {
    "execution": {
     "iopub.execute_input": "2025-08-06T18:09:31.150297Z",
     "iopub.status.busy": "2025-08-06T18:09:31.150093Z",
     "iopub.status.idle": "2025-08-06T18:09:31.154356Z",
     "shell.execute_reply": "2025-08-06T18:09:31.153755Z"
    },
    "id": "qpyyAeIzQjlO",
    "outputId": "b8d6f408-58f3-43fd-d5ac-14d0eb86635c",
    "papermill": {
     "duration": 0.011478,
     "end_time": "2025-08-06T18:09:31.155395",
     "exception": false,
     "start_time": "2025-08-06T18:09:31.143917",
     "status": "completed"
    },
    "tags": []
   },
   "outputs": [
    {
     "name": "stdout",
     "output_type": "stream",
     "text": [
      "tensor([[24, 43, 58,  5, 57,  1, 46, 43],\n",
      "        [44, 53, 56,  1, 58, 46, 39, 58],\n",
      "        [52, 58,  1, 58, 46, 39, 58,  1],\n",
      "        [25, 17, 27, 10,  0, 21,  1, 54]])\n"
     ]
    }
   ],
   "source": [
    "print(xb) # our input to the transformer"
   ]
  },
  {
   "cell_type": "code",
   "execution_count": 12,
   "id": "f967c129",
   "metadata": {
    "execution": {
     "iopub.execute_input": "2025-08-06T18:09:31.166269Z",
     "iopub.status.busy": "2025-08-06T18:09:31.166070Z",
     "iopub.status.idle": "2025-08-06T18:09:31.271965Z",
     "shell.execute_reply": "2025-08-06T18:09:31.271246Z"
    },
    "id": "nql_1ER53oCf",
    "outputId": "f637b9aa-5b9b-4fdc-bab7-a3dd29d99d37",
    "papermill": {
     "duration": 0.112599,
     "end_time": "2025-08-06T18:09:31.273070",
     "exception": false,
     "start_time": "2025-08-06T18:09:31.160471",
     "status": "completed"
    },
    "tags": []
   },
   "outputs": [
    {
     "name": "stdout",
     "output_type": "stream",
     "text": [
      "torch.Size([32, 65])\n",
      "tensor(4.8786, grad_fn=<NllLossBackward0>)\n",
      "\n",
      "Sr?qP-QWktXoL&jLDJgOLVz'RIoDqHdhsV&vLLxatjscMpwLERSPyao.qfzs$Ys$zF-w,;eEkzxjgCKFChs!iWW.ObzDnxA Ms$3\n"
     ]
    }
   ],
   "source": [
    "import torch\n",
    "import torch.nn as nn\n",
    "from torch.nn import functional as F\n",
    "torch.manual_seed(1337)\n",
    "\n",
    "class BigramLanguageModel(nn.Module):\n",
    "\n",
    "    def __init__(self, vocab_size):\n",
    "        super().__init__()\n",
    "        # each token directly reads off the logits for the next token from a lookup table\n",
    "        self.token_embedding_table = nn.Embedding(vocab_size, vocab_size)\n",
    "\n",
    "    def forward(self, idx, targets=None):\n",
    "\n",
    "        # idx and targets are both (B,T) tensor of integers\n",
    "        logits = self.token_embedding_table(idx) # (B,T,C)\n",
    "\n",
    "        if targets is None:\n",
    "            loss = None\n",
    "        else:\n",
    "            B, T, C = logits.shape\n",
    "            logits = logits.view(B*T, C)\n",
    "            targets = targets.view(B*T)\n",
    "            loss = F.cross_entropy(logits, targets)\n",
    "\n",
    "        return logits, loss\n",
    "\n",
    "    def generate(self, idx, max_new_tokens):\n",
    "        # idx is (B, T) array of indices in the current context\n",
    "        for _ in range(max_new_tokens):\n",
    "            # getting the predictions\n",
    "            logits, loss = self(idx)\n",
    "            # focus only on the last time step\n",
    "            logits = logits[:, -1, :] # becomes (B, C)\n",
    "            # applying softmax to get probabilities\n",
    "            probs = F.softmax(logits, dim=-1) # (B, C)\n",
    "            # sampling from the distribution\n",
    "            idx_next = torch.multinomial(probs, num_samples=1) # (B, 1)\n",
    "            # appending sampled index to the running sequence\n",
    "            idx = torch.cat((idx, idx_next), dim=1) # (B, T+1)\n",
    "        return idx\n",
    "\n",
    "m = BigramLanguageModel(vocab_size)\n",
    "logits, loss = m(xb, yb)\n",
    "print(logits.shape)\n",
    "print(loss)\n",
    "\n",
    "print(decode(m.generate(idx = torch.zeros((1, 1), dtype=torch.long), max_new_tokens=100)[0].tolist()))\n"
   ]
  },
  {
   "cell_type": "code",
   "execution_count": 13,
   "id": "15200bed",
   "metadata": {
    "execution": {
     "iopub.execute_input": "2025-08-06T18:09:31.284348Z",
     "iopub.status.busy": "2025-08-06T18:09:31.283701Z",
     "iopub.status.idle": "2025-08-06T18:09:35.753517Z",
     "shell.execute_reply": "2025-08-06T18:09:35.752959Z"
    },
    "id": "eTyJ8qAaDdiF",
    "papermill": {
     "duration": 4.476608,
     "end_time": "2025-08-06T18:09:35.754765",
     "exception": false,
     "start_time": "2025-08-06T18:09:31.278157",
     "status": "completed"
    },
    "tags": []
   },
   "outputs": [],
   "source": [
    "# creating a PyTorch optimizer\n",
    "optimizer = torch.optim.AdamW(m.parameters(), lr=1e-3)"
   ]
  },
  {
   "cell_type": "code",
   "execution_count": 14,
   "id": "0aaae8b1",
   "metadata": {
    "execution": {
     "iopub.execute_input": "2025-08-06T18:09:35.766182Z",
     "iopub.status.busy": "2025-08-06T18:09:35.765891Z",
     "iopub.status.idle": "2025-08-06T18:09:36.035541Z",
     "shell.execute_reply": "2025-08-06T18:09:36.034524Z"
    },
    "id": "Hs4kI8YdEkQj",
    "outputId": "f4a5c4d3-7c5c-40eb-a069-3e6abf08fcc8",
    "papermill": {
     "duration": 0.277319,
     "end_time": "2025-08-06T18:09:36.037546",
     "exception": false,
     "start_time": "2025-08-06T18:09:35.760227",
     "status": "completed"
    },
    "tags": []
   },
   "outputs": [
    {
     "name": "stdout",
     "output_type": "stream",
     "text": [
      "4.587916374206543\n"
     ]
    }
   ],
   "source": [
    "batch_size = 32\n",
    "for steps in range(100): # increased number of steps for good results...\n",
    "\n",
    "    # sample a batch of data\n",
    "    xb, yb = get_batch('train')\n",
    "\n",
    "    # evaluate the loss\n",
    "    logits, loss = m(xb, yb)\n",
    "    optimizer.zero_grad(set_to_none=True)\n",
    "    loss.backward()\n",
    "    optimizer.step()\n",
    "\n",
    "print(loss.item())\n"
   ]
  },
  {
   "cell_type": "code",
   "execution_count": 15,
   "id": "cbc412a0",
   "metadata": {
    "execution": {
     "iopub.execute_input": "2025-08-06T18:09:36.053966Z",
     "iopub.status.busy": "2025-08-06T18:09:36.053685Z",
     "iopub.status.idle": "2025-08-06T18:09:36.121695Z",
     "shell.execute_reply": "2025-08-06T18:09:36.121067Z"
    },
    "id": "EcVIDWAZEtjN",
    "outputId": "0597f2c2-0223-4e93-b755-7b5d618cc373",
    "papermill": {
     "duration": 0.076855,
     "end_time": "2025-08-06T18:09:36.122742",
     "exception": false,
     "start_time": "2025-08-06T18:09:36.045887",
     "status": "completed"
    },
    "tags": []
   },
   "outputs": [
    {
     "name": "stdout",
     "output_type": "stream",
     "text": [
      "\n",
      "xiKi-RJ:CgqVuUa!U?qMH.uk!sCuMXvv!CJFfx;LgRyJknOEti.?I&-gPlLyulId?XlaInQ'q,lT$\n",
      "3Q&sGlvHQ?mqSq-eON\n",
      "x?SP fUAfCAuCX:bOlgiRQWN:Mphaw\n",
      "tRLKuYXEaAXxrcq-gCUzeh3w!AcyaylgYWjmJM?Uzw:inaY,:C&OECW:vmGGJAn3onAuMgia!ms$Vb q-gCOcPcUhOnxJGUGSPJWT:.?ujmJFoiNL&A'DxY,prZ?qdT;hoo'dHooXXlxf'WkHK&u3Q?rqUi.kz;?Yx?C&u3Qbfzxlyh'Vl:zyxjKXgC?\n",
      "lv'QKFiBeviNxO'm!Upm$srm&TqViqiBD3HBP!juEOpmZJyF$Fwfy!PlvWPFC\n",
      "&WDdP!Ko,px\n",
      "x\n",
      "tREOE;AJ.BeXkylOVD3KHp$e?nD,.SFbWWI'ubcL!q-tU;aXmJ&uGXHxJXI&Z!gHRpajj;l.\n",
      "pTErIBjx;JKIgoCnLGXrJSP!AU-AcbczR?\n"
     ]
    }
   ],
   "source": [
    "print(decode(m.generate(idx = torch.zeros((1, 1), dtype=torch.long), max_new_tokens=500)[0].tolist()))"
   ]
  },
  {
   "cell_type": "code",
   "execution_count": 16,
   "id": "4ea70df4",
   "metadata": {
    "execution": {
     "iopub.execute_input": "2025-08-06T18:09:36.134403Z",
     "iopub.status.busy": "2025-08-06T18:09:36.133655Z",
     "iopub.status.idle": "2025-08-06T18:09:36.165632Z",
     "shell.execute_reply": "2025-08-06T18:09:36.164887Z"
    },
    "id": "tukiH-NbRBhA",
    "outputId": "be08e328-8374-4dfd-8ca1-e60ba603b131",
    "papermill": {
     "duration": 0.038472,
     "end_time": "2025-08-06T18:09:36.166612",
     "exception": false,
     "start_time": "2025-08-06T18:09:36.128140",
     "status": "completed"
    },
    "tags": []
   },
   "outputs": [
    {
     "name": "stdout",
     "output_type": "stream",
     "text": [
      "a=\n",
      "tensor([[1.0000, 0.0000, 0.0000],\n",
      "        [0.5000, 0.5000, 0.0000],\n",
      "        [0.3333, 0.3333, 0.3333]])\n",
      "--\n",
      "b=\n",
      "tensor([[2., 7.],\n",
      "        [6., 4.],\n",
      "        [6., 5.]])\n",
      "--\n",
      "c=\n",
      "tensor([[2.0000, 7.0000],\n",
      "        [4.0000, 5.5000],\n",
      "        [4.6667, 5.3333]])\n"
     ]
    }
   ],
   "source": [
    "# toy example illustrating how matrix multiplication can be used for a \"weighted aggregation\"\n",
    "torch.manual_seed(42)\n",
    "a = torch.tril(torch.ones(3, 3))\n",
    "a = a / torch.sum(a, 1, keepdim=True)\n",
    "b = torch.randint(0,10,(3,2)).float()\n",
    "c = a @ b\n",
    "print('a=')\n",
    "print(a)\n",
    "print('--')\n",
    "print('b=')\n",
    "print(b)\n",
    "print('--')\n",
    "print('c=')\n",
    "print(c)"
   ]
  },
  {
   "cell_type": "code",
   "execution_count": 17,
   "id": "6081e767",
   "metadata": {
    "execution": {
     "iopub.execute_input": "2025-08-06T18:09:36.178295Z",
     "iopub.status.busy": "2025-08-06T18:09:36.178099Z",
     "iopub.status.idle": "2025-08-06T18:09:36.183811Z",
     "shell.execute_reply": "2025-08-06T18:09:36.183151Z"
    },
    "id": "Hs_E24uRE8kr",
    "outputId": "a8618d7d-548c-4aa3-9060-b3d8bd586f47",
    "papermill": {
     "duration": 0.012789,
     "end_time": "2025-08-06T18:09:36.184937",
     "exception": false,
     "start_time": "2025-08-06T18:09:36.172148",
     "status": "completed"
    },
    "tags": []
   },
   "outputs": [
    {
     "data": {
      "text/plain": [
       "torch.Size([4, 8, 2])"
      ]
     },
     "execution_count": 17,
     "metadata": {},
     "output_type": "execute_result"
    }
   ],
   "source": [
    "# considering the following toy example:\n",
    "\n",
    "torch.manual_seed(1337)\n",
    "B,T,C = 4,8,2 # batch, time, channels\n",
    "x = torch.randn(B,T,C)\n",
    "x.shape"
   ]
  },
  {
   "cell_type": "code",
   "execution_count": 18,
   "id": "9b0866a0",
   "metadata": {
    "execution": {
     "iopub.execute_input": "2025-08-06T18:09:36.196373Z",
     "iopub.status.busy": "2025-08-06T18:09:36.195971Z",
     "iopub.status.idle": "2025-08-06T18:09:36.200601Z",
     "shell.execute_reply": "2025-08-06T18:09:36.200126Z"
    },
    "id": "86NuXX0fn7ps",
    "papermill": {
     "duration": 0.011478,
     "end_time": "2025-08-06T18:09:36.201600",
     "exception": false,
     "start_time": "2025-08-06T18:09:36.190122",
     "status": "completed"
    },
    "tags": []
   },
   "outputs": [],
   "source": [
    "# We want x[b,t] = mean_{i<=t} x[b,i]\n",
    "xbow = torch.zeros((B,T,C))\n",
    "for b in range(B):\n",
    "    for t in range(T):\n",
    "        xprev = x[b,:t+1] # (t,C)\n",
    "        xbow[b,t] = torch.mean(xprev, 0)\n"
   ]
  },
  {
   "cell_type": "code",
   "execution_count": 19,
   "id": "e0923c85",
   "metadata": {
    "execution": {
     "iopub.execute_input": "2025-08-06T18:09:36.212683Z",
     "iopub.status.busy": "2025-08-06T18:09:36.212485Z",
     "iopub.status.idle": "2025-08-06T18:09:36.218400Z",
     "shell.execute_reply": "2025-08-06T18:09:36.217859Z"
    },
    "id": "yhdOAd6-wXkZ",
    "outputId": "351c0db8-fc74-4ec5-b35b-9f4fa9a507cc",
    "papermill": {
     "duration": 0.012647,
     "end_time": "2025-08-06T18:09:36.219439",
     "exception": false,
     "start_time": "2025-08-06T18:09:36.206792",
     "status": "completed"
    },
    "tags": []
   },
   "outputs": [
    {
     "data": {
      "text/plain": [
       "False"
      ]
     },
     "execution_count": 19,
     "metadata": {},
     "output_type": "execute_result"
    }
   ],
   "source": [
    "# version 2: using matrix multiply for a weighted aggregation\n",
    "wei = torch.tril(torch.ones(T, T))\n",
    "wei = wei / wei.sum(1, keepdim=True)\n",
    "xbow2 = wei @ x # (B, T, T) @ (B, T, C) ----> (B, T, C)\n",
    "torch.allclose(xbow, xbow2)"
   ]
  },
  {
   "cell_type": "code",
   "execution_count": 20,
   "id": "b837d87d",
   "metadata": {
    "execution": {
     "iopub.execute_input": "2025-08-06T18:09:36.230751Z",
     "iopub.status.busy": "2025-08-06T18:09:36.230583Z",
     "iopub.status.idle": "2025-08-06T18:09:36.237422Z",
     "shell.execute_reply": "2025-08-06T18:09:36.236867Z"
    },
    "id": "wOURrfG-ysoL",
    "outputId": "a4b1ba09-6386-4b1e-a856-e9b8f570f1b5",
    "papermill": {
     "duration": 0.013544,
     "end_time": "2025-08-06T18:09:36.238410",
     "exception": false,
     "start_time": "2025-08-06T18:09:36.224866",
     "status": "completed"
    },
    "tags": []
   },
   "outputs": [
    {
     "data": {
      "text/plain": [
       "False"
      ]
     },
     "execution_count": 20,
     "metadata": {},
     "output_type": "execute_result"
    }
   ],
   "source": [
    "# version 3: using Softmax\n",
    "tril = torch.tril(torch.ones(T, T))\n",
    "wei = torch.zeros((T,T))\n",
    "wei = wei.masked_fill(tril == 0, float('-inf'))\n",
    "wei = F.softmax(wei, dim=-1)\n",
    "xbow3 = wei @ x\n",
    "torch.allclose(xbow, xbow3)\n"
   ]
  },
  {
   "cell_type": "code",
   "execution_count": 21,
   "id": "0ade89ab",
   "metadata": {
    "execution": {
     "iopub.execute_input": "2025-08-06T18:09:36.250417Z",
     "iopub.status.busy": "2025-08-06T18:09:36.250197Z",
     "iopub.status.idle": "2025-08-06T18:09:36.264693Z",
     "shell.execute_reply": "2025-08-06T18:09:36.264070Z"
    },
    "id": "EDarxEWIRMKq",
    "outputId": "f87f7b13-f893-441c-9988-83c40088e59c",
    "papermill": {
     "duration": 0.02189,
     "end_time": "2025-08-06T18:09:36.265751",
     "exception": false,
     "start_time": "2025-08-06T18:09:36.243861",
     "status": "completed"
    },
    "tags": []
   },
   "outputs": [
    {
     "data": {
      "text/plain": [
       "torch.Size([4, 8, 16])"
      ]
     },
     "execution_count": 21,
     "metadata": {},
     "output_type": "execute_result"
    }
   ],
   "source": [
    "# version 4: self-attention!\n",
    "torch.manual_seed(1337)\n",
    "B,T,C = 4,8,32 # batch, time, channels\n",
    "x = torch.randn(B,T,C)\n",
    "\n",
    "# let's see a single Head perform self-attention\n",
    "head_size = 16\n",
    "key = nn.Linear(C, head_size, bias=False)\n",
    "query = nn.Linear(C, head_size, bias=False)\n",
    "value = nn.Linear(C, head_size, bias=False)\n",
    "k = key(x)   # (B, T, 16)\n",
    "q = query(x) # (B, T, 16)\n",
    "wei =  q @ k.transpose(-2, -1) # (B, T, 16) @ (B, 16, T) ---> (B, T, T)\n",
    "\n",
    "tril = torch.tril(torch.ones(T, T))\n",
    "#wei = torch.zeros((T,T))\n",
    "wei = wei.masked_fill(tril == 0, float('-inf'))\n",
    "wei = F.softmax(wei, dim=-1)\n",
    "\n",
    "v = value(x)\n",
    "out = wei @ v\n",
    "#out = wei @ x\n",
    "\n",
    "out.shape"
   ]
  },
  {
   "cell_type": "code",
   "execution_count": 22,
   "id": "a18ee4de",
   "metadata": {
    "execution": {
     "iopub.execute_input": "2025-08-06T18:09:36.277493Z",
     "iopub.status.busy": "2025-08-06T18:09:36.277305Z",
     "iopub.status.idle": "2025-08-06T18:09:36.282111Z",
     "shell.execute_reply": "2025-08-06T18:09:36.281530Z"
    },
    "id": "vT1hdtzXCjgL",
    "outputId": "ed6faa30-d361-4d46-95a5-cfcae9e16409",
    "papermill": {
     "duration": 0.011837,
     "end_time": "2025-08-06T18:09:36.283165",
     "exception": false,
     "start_time": "2025-08-06T18:09:36.271328",
     "status": "completed"
    },
    "tags": []
   },
   "outputs": [
    {
     "data": {
      "text/plain": [
       "tensor([[1.0000, 0.0000, 0.0000, 0.0000, 0.0000, 0.0000, 0.0000, 0.0000],\n",
       "        [0.1574, 0.8426, 0.0000, 0.0000, 0.0000, 0.0000, 0.0000, 0.0000],\n",
       "        [0.2088, 0.1646, 0.6266, 0.0000, 0.0000, 0.0000, 0.0000, 0.0000],\n",
       "        [0.5792, 0.1187, 0.1889, 0.1131, 0.0000, 0.0000, 0.0000, 0.0000],\n",
       "        [0.0294, 0.1052, 0.0469, 0.0276, 0.7909, 0.0000, 0.0000, 0.0000],\n",
       "        [0.0176, 0.2689, 0.0215, 0.0089, 0.6812, 0.0019, 0.0000, 0.0000],\n",
       "        [0.1691, 0.4066, 0.0438, 0.0416, 0.1048, 0.2012, 0.0329, 0.0000],\n",
       "        [0.0210, 0.0843, 0.0555, 0.2297, 0.0573, 0.0709, 0.2423, 0.2391]],\n",
       "       grad_fn=<SelectBackward0>)"
      ]
     },
     "execution_count": 22,
     "metadata": {},
     "output_type": "execute_result"
    }
   ],
   "source": [
    "wei[0]"
   ]
  },
  {
   "cell_type": "code",
   "execution_count": 23,
   "id": "455be0da",
   "metadata": {
    "execution": {
     "iopub.execute_input": "2025-08-06T18:09:36.295175Z",
     "iopub.status.busy": "2025-08-06T18:09:36.294773Z",
     "iopub.status.idle": "2025-08-06T18:09:36.298790Z",
     "shell.execute_reply": "2025-08-06T18:09:36.298081Z"
    },
    "id": "4SNbLq5z3oBw",
    "papermill": {
     "duration": 0.011333,
     "end_time": "2025-08-06T18:09:36.299972",
     "exception": false,
     "start_time": "2025-08-06T18:09:36.288639",
     "status": "completed"
    },
    "tags": []
   },
   "outputs": [],
   "source": [
    "k = torch.randn(B,T,head_size)\n",
    "q = torch.randn(B,T,head_size)\n",
    "wei = q @ k.transpose(-2, -1) * head_size**-0.5"
   ]
  },
  {
   "cell_type": "code",
   "execution_count": 24,
   "id": "d4f5b5aa",
   "metadata": {
    "execution": {
     "iopub.execute_input": "2025-08-06T18:09:36.314367Z",
     "iopub.status.busy": "2025-08-06T18:09:36.313786Z",
     "iopub.status.idle": "2025-08-06T18:09:36.318340Z",
     "shell.execute_reply": "2025-08-06T18:09:36.317805Z"
    },
    "id": "Nl6I9n9IRTSo",
    "outputId": "41476d16-fcfd-40f4-9965-459d6730befc",
    "papermill": {
     "duration": 0.012413,
     "end_time": "2025-08-06T18:09:36.319314",
     "exception": false,
     "start_time": "2025-08-06T18:09:36.306901",
     "status": "completed"
    },
    "tags": []
   },
   "outputs": [
    {
     "data": {
      "text/plain": [
       "tensor(1.0449)"
      ]
     },
     "execution_count": 24,
     "metadata": {},
     "output_type": "execute_result"
    }
   ],
   "source": [
    "k.var()"
   ]
  },
  {
   "cell_type": "code",
   "execution_count": 25,
   "id": "075f3354",
   "metadata": {
    "execution": {
     "iopub.execute_input": "2025-08-06T18:09:36.331326Z",
     "iopub.status.busy": "2025-08-06T18:09:36.331124Z",
     "iopub.status.idle": "2025-08-06T18:09:36.335377Z",
     "shell.execute_reply": "2025-08-06T18:09:36.334884Z"
    },
    "id": "T1tQx7oeRvtc",
    "outputId": "553d2628-05b3-45f1-8407-bb14afc799c5",
    "papermill": {
     "duration": 0.011331,
     "end_time": "2025-08-06T18:09:36.336420",
     "exception": false,
     "start_time": "2025-08-06T18:09:36.325089",
     "status": "completed"
    },
    "tags": []
   },
   "outputs": [
    {
     "data": {
      "text/plain": [
       "tensor(1.0700)"
      ]
     },
     "execution_count": 25,
     "metadata": {},
     "output_type": "execute_result"
    }
   ],
   "source": [
    "q.var()"
   ]
  },
  {
   "cell_type": "code",
   "execution_count": 26,
   "id": "72d70870",
   "metadata": {
    "execution": {
     "iopub.execute_input": "2025-08-06T18:09:36.348460Z",
     "iopub.status.busy": "2025-08-06T18:09:36.348276Z",
     "iopub.status.idle": "2025-08-06T18:09:36.352995Z",
     "shell.execute_reply": "2025-08-06T18:09:36.352304Z"
    },
    "id": "MLb_odHU3iKM",
    "outputId": "76c08853-6ded-403e-cd26-0b6dcbc0c439",
    "papermill": {
     "duration": 0.01199,
     "end_time": "2025-08-06T18:09:36.354150",
     "exception": false,
     "start_time": "2025-08-06T18:09:36.342160",
     "status": "completed"
    },
    "tags": []
   },
   "outputs": [
    {
     "data": {
      "text/plain": [
       "tensor(1.0918)"
      ]
     },
     "execution_count": 26,
     "metadata": {},
     "output_type": "execute_result"
    }
   ],
   "source": [
    "wei.var()"
   ]
  },
  {
   "cell_type": "code",
   "execution_count": 27,
   "id": "f7a7cf43",
   "metadata": {
    "execution": {
     "iopub.execute_input": "2025-08-06T18:09:36.366474Z",
     "iopub.status.busy": "2025-08-06T18:09:36.366079Z",
     "iopub.status.idle": "2025-08-06T18:09:36.370698Z",
     "shell.execute_reply": "2025-08-06T18:09:36.370178Z"
    },
    "id": "JB82yzt44REI",
    "outputId": "59a65413-fb51-44e8-870f-5e120250c4ac",
    "papermill": {
     "duration": 0.011866,
     "end_time": "2025-08-06T18:09:36.371729",
     "exception": false,
     "start_time": "2025-08-06T18:09:36.359863",
     "status": "completed"
    },
    "tags": []
   },
   "outputs": [
    {
     "data": {
      "text/plain": [
       "tensor([0.1925, 0.1426, 0.2351, 0.1426, 0.2872])"
      ]
     },
     "execution_count": 27,
     "metadata": {},
     "output_type": "execute_result"
    }
   ],
   "source": [
    "torch.softmax(torch.tensor([0.1, -0.2, 0.3, -0.2, 0.5]), dim=-1)"
   ]
  },
  {
   "cell_type": "code",
   "execution_count": 28,
   "id": "7676d89c",
   "metadata": {
    "execution": {
     "iopub.execute_input": "2025-08-06T18:09:36.384362Z",
     "iopub.status.busy": "2025-08-06T18:09:36.384159Z",
     "iopub.status.idle": "2025-08-06T18:09:36.389308Z",
     "shell.execute_reply": "2025-08-06T18:09:36.388655Z"
    },
    "id": "Mpt8569BB9_f",
    "outputId": "4a6fcd48-887e-4e58-d4fb-9241f766cc36",
    "papermill": {
     "duration": 0.012396,
     "end_time": "2025-08-06T18:09:36.390307",
     "exception": false,
     "start_time": "2025-08-06T18:09:36.377911",
     "status": "completed"
    },
    "tags": []
   },
   "outputs": [
    {
     "data": {
      "text/plain": [
       "tensor([0.0326, 0.0030, 0.1615, 0.0030, 0.8000])"
      ]
     },
     "execution_count": 28,
     "metadata": {},
     "output_type": "execute_result"
    }
   ],
   "source": [
    "torch.softmax(torch.tensor([0.1, -0.2, 0.3, -0.2, 0.5])*8, dim=-1) # gets too peaky, converges to one-hot"
   ]
  },
  {
   "cell_type": "code",
   "execution_count": 29,
   "id": "86625849",
   "metadata": {
    "execution": {
     "iopub.execute_input": "2025-08-06T18:09:36.402650Z",
     "iopub.status.busy": "2025-08-06T18:09:36.402443Z",
     "iopub.status.idle": "2025-08-06T18:09:36.412078Z",
     "shell.execute_reply": "2025-08-06T18:09:36.411394Z"
    },
    "id": "2Num7sX9CKOH",
    "outputId": "05fb3841-3e77-438e-f01c-6ef84bd1960e",
    "papermill": {
     "duration": 0.017003,
     "end_time": "2025-08-06T18:09:36.413082",
     "exception": false,
     "start_time": "2025-08-06T18:09:36.396079",
     "status": "completed"
    },
    "tags": []
   },
   "outputs": [
    {
     "data": {
      "text/plain": [
       "torch.Size([32, 100])"
      ]
     },
     "execution_count": 29,
     "metadata": {},
     "output_type": "execute_result"
    }
   ],
   "source": [
    "class LayerNorm1d: # (used to be BatchNorm1d)\n",
    "\n",
    "  def __init__(self, dim, eps=1e-5, momentum=0.1):\n",
    "    self.eps = eps\n",
    "    self.gamma = torch.ones(dim)\n",
    "    self.beta = torch.zeros(dim)\n",
    "\n",
    "  def __call__(self, x):\n",
    "    # calculate the forward pass\n",
    "    xmean = x.mean(1, keepdim=True) # batch mean\n",
    "    xvar = x.var(1, keepdim=True) # batch variance\n",
    "    xhat = (x - xmean) / torch.sqrt(xvar + self.eps) # normalize to unit variance\n",
    "    self.out = self.gamma * xhat + self.beta\n",
    "    return self.out\n",
    "\n",
    "  def parameters(self):\n",
    "    return [self.gamma, self.beta]\n",
    "\n",
    "torch.manual_seed(1337)\n",
    "module = LayerNorm1d(100)\n",
    "x = torch.randn(32, 100) # batch size 32 of 100-dimensional vectors\n",
    "x = module(x)\n",
    "x.shape"
   ]
  },
  {
   "cell_type": "code",
   "execution_count": 30,
   "id": "159e8a71",
   "metadata": {
    "execution": {
     "iopub.execute_input": "2025-08-06T18:09:36.425624Z",
     "iopub.status.busy": "2025-08-06T18:09:36.425438Z",
     "iopub.status.idle": "2025-08-06T18:09:36.430630Z",
     "shell.execute_reply": "2025-08-06T18:09:36.429977Z"
    },
    "id": "633T2cmnW1uk",
    "outputId": "439188ec-0aa7-42da-c2fe-8392dd5fc5a3",
    "papermill": {
     "duration": 0.012895,
     "end_time": "2025-08-06T18:09:36.431821",
     "exception": false,
     "start_time": "2025-08-06T18:09:36.418926",
     "status": "completed"
    },
    "tags": []
   },
   "outputs": [
    {
     "data": {
      "text/plain": [
       "(tensor(0.1469), tensor(0.8803))"
      ]
     },
     "execution_count": 30,
     "metadata": {},
     "output_type": "execute_result"
    }
   ],
   "source": [
    "x[:,0].mean(), x[:,0].std() # mean,std of one feature across all batch inputs"
   ]
  },
  {
   "cell_type": "code",
   "execution_count": 31,
   "id": "8f2ca5dc",
   "metadata": {
    "execution": {
     "iopub.execute_input": "2025-08-06T18:09:36.444496Z",
     "iopub.status.busy": "2025-08-06T18:09:36.444309Z",
     "iopub.status.idle": "2025-08-06T18:09:36.449180Z",
     "shell.execute_reply": "2025-08-06T18:09:36.448672Z"
    },
    "id": "LN9cK9BoXCYb",
    "outputId": "86520a2c-7713-47ea-9d8e-2a4c77789f66",
    "papermill": {
     "duration": 0.012235,
     "end_time": "2025-08-06T18:09:36.450271",
     "exception": false,
     "start_time": "2025-08-06T18:09:36.438036",
     "status": "completed"
    },
    "tags": []
   },
   "outputs": [
    {
     "data": {
      "text/plain": [
       "(tensor(-9.5367e-09), tensor(1.0000))"
      ]
     },
     "execution_count": 31,
     "metadata": {},
     "output_type": "execute_result"
    }
   ],
   "source": [
    "x[0,:].mean(), x[0,:].std() # mean,std of a single input from the batch, of its features"
   ]
  },
  {
   "cell_type": "code",
   "execution_count": 32,
   "id": "aae9e199",
   "metadata": {
    "execution": {
     "iopub.execute_input": "2025-08-06T18:09:36.462878Z",
     "iopub.status.busy": "2025-08-06T18:09:36.462649Z",
     "iopub.status.idle": "2025-08-06T19:09:43.233950Z",
     "shell.execute_reply": "2025-08-06T19:09:43.232968Z"
    },
    "id": "hoelkOrFY8bN",
    "outputId": "47050a12-6232-467a-cd9e-df3e12adf97e",
    "papermill": {
     "duration": 3606.778978,
     "end_time": "2025-08-06T19:09:43.235216",
     "exception": false,
     "start_time": "2025-08-06T18:09:36.456238",
     "status": "completed"
    },
    "tags": []
   },
   "outputs": [
    {
     "name": "stdout",
     "output_type": "stream",
     "text": [
      "10.788929 M parameters\n",
      "step 0: train loss 4.2221, val loss 4.2306\n",
      "step 500: train loss 1.7600, val loss 1.9146\n",
      "step 1000: train loss 1.3903, val loss 1.5987\n",
      "step 1500: train loss 1.2644, val loss 1.5271\n",
      "step 2000: train loss 1.1835, val loss 1.4978\n",
      "step 2500: train loss 1.1233, val loss 1.4910\n",
      "step 3000: train loss 1.0718, val loss 1.4804\n",
      "step 3500: train loss 1.0179, val loss 1.5127\n",
      "step 4000: train loss 0.9604, val loss 1.5102\n",
      "step 4500: train loss 0.9125, val loss 1.5351\n",
      "step 4999: train loss 0.8589, val loss 1.5565\n",
      "\n",
      "But with prison, I will steal for the fimker.\n",
      "\n",
      "KING HENRY VI:\n",
      "To prevent it, as I love this country's cause.\n",
      "\n",
      "HENRY BOLINGBROKE:\n",
      "I thank bhop my follow. Walk ye were so?\n",
      "\n",
      "NORTHUMBERLAND:\n",
      "My lord, I hearison! Who may love me accurse\n",
      "Some chold or flights then men shows to great the cur\n",
      "Ye cause who fled the trick that did princely action?\n",
      "Take my captiving sound, althoughts thy crown.\n",
      "\n",
      "RICHMOND NE:\n",
      "God neit will he not make it wise this!\n",
      "\n",
      "DUKE VINCENTIO:\n",
      "Worthy Prince forth from Lord Claudio!\n",
      "\n",
      "Lo\n"
     ]
    }
   ],
   "source": [
    "import torch\n",
    "import torch.nn as nn\n",
    "from torch.nn import functional as F\n",
    "\n",
    "# hyperparameters\n",
    "batch_size = 64 # how many independent sequences will we process in parallel?\n",
    "block_size = 256 # what is the maximum context length for predictions?\n",
    "max_iters = 5000\n",
    "eval_interval = 500\n",
    "learning_rate = 3e-4\n",
    "device = 'cuda' if torch.cuda.is_available() else 'cpu'\n",
    "eval_iters = 200\n",
    "n_embd = 384\n",
    "n_head = 6\n",
    "n_layer = 6\n",
    "dropout = 0.2\n",
    "# ------------\n",
    "\n",
    "torch.manual_seed(1337)\n",
    "\n",
    "with open('/kaggle/input/inputtxt/input.txt', 'r', encoding='utf-8') as f:\n",
    "    text = f.read()\n",
    "\n",
    "# here are all the unique characters that occur in this text\n",
    "chars = sorted(list(set(text)))\n",
    "vocab_size = len(chars)\n",
    "# creating a mapping from characters to integers\n",
    "stoi = { ch:i for i,ch in enumerate(chars) }\n",
    "itos = { i:ch for i,ch in enumerate(chars) }\n",
    "encode = lambda s: [stoi[c] for c in s] # encoder: take a string, output a list of integers\n",
    "decode = lambda l: ''.join([itos[i] for i in l]) # decoder: take a list of integers, output a string\n",
    "\n",
    "# Train and test splits\n",
    "data = torch.tensor(encode(text), dtype=torch.long)\n",
    "n = int(0.9*len(data)) # first 90% will be train, rest val\n",
    "train_data = data[:n]\n",
    "val_data = data[n:]\n",
    "\n",
    "# data loading\n",
    "def get_batch(split):\n",
    "    # generate a small batch of data of inputs x and targets y\n",
    "    data = train_data if split == 'train' else val_data\n",
    "    ix = torch.randint(len(data) - block_size, (batch_size,))\n",
    "    x = torch.stack([data[i:i+block_size] for i in ix])\n",
    "    y = torch.stack([data[i+1:i+block_size+1] for i in ix])\n",
    "    x, y = x.to(device), y.to(device)\n",
    "    return x, y\n",
    "\n",
    "@torch.no_grad()\n",
    "def estimate_loss():\n",
    "    out = {}\n",
    "    model.eval()\n",
    "    for split in ['train', 'val']:\n",
    "        losses = torch.zeros(eval_iters)\n",
    "        for k in range(eval_iters):\n",
    "            X, Y = get_batch(split)\n",
    "            logits, loss = model(X, Y)\n",
    "            losses[k] = loss.item()\n",
    "        out[split] = losses.mean()\n",
    "    model.train()\n",
    "    return out\n",
    "\n",
    "class Head(nn.Module):\n",
    "    \"\"\" one head of self-attention \"\"\"\n",
    "\n",
    "    def __init__(self, head_size):\n",
    "        super().__init__()\n",
    "        self.key = nn.Linear(n_embd, head_size, bias=False)\n",
    "        self.query = nn.Linear(n_embd, head_size, bias=False)\n",
    "        self.value = nn.Linear(n_embd, head_size, bias=False)\n",
    "        self.register_buffer('tril', torch.tril(torch.ones(block_size, block_size)))\n",
    "\n",
    "        self.dropout = nn.Dropout(dropout)\n",
    "\n",
    "    def forward(self, x):\n",
    "        # input of size (batch, time-step, channels)\n",
    "        # output of size (batch, time-step, head size)\n",
    "        B,T,C = x.shape\n",
    "        k = self.key(x)   # (B,T,hs)\n",
    "        q = self.query(x) # (B,T,hs)\n",
    "        # compute attention scores (\"affinities\")\n",
    "        wei = q @ k.transpose(-2,-1) * k.shape[-1]**-0.5 # (B, T, hs) @ (B, hs, T) -> (B, T, T)\n",
    "        wei = wei.masked_fill(self.tril[:T, :T] == 0, float('-inf')) # (B, T, T)\n",
    "        wei = F.softmax(wei, dim=-1) # (B, T, T)\n",
    "        wei = self.dropout(wei)\n",
    "        # perform the weighted aggregation of the values\n",
    "        v = self.value(x) # (B,T,hs)\n",
    "        out = wei @ v # (B, T, T) @ (B, T, hs) -> (B, T, hs)\n",
    "        return out\n",
    "\n",
    "class MultiHeadAttention(nn.Module):\n",
    "    \"\"\" multiple heads of self-attention in parallel \"\"\"\n",
    "\n",
    "    def __init__(self, num_heads, head_size):\n",
    "        super().__init__()\n",
    "        self.heads = nn.ModuleList([Head(head_size) for _ in range(num_heads)])\n",
    "        self.proj = nn.Linear(head_size * num_heads, n_embd)\n",
    "        self.dropout = nn.Dropout(dropout)\n",
    "\n",
    "    def forward(self, x):\n",
    "        out = torch.cat([h(x) for h in self.heads], dim=-1)\n",
    "        out = self.dropout(self.proj(out))\n",
    "        return out\n",
    "\n",
    "class FeedFoward(nn.Module):\n",
    "    \"\"\" a simple linear layer followed by a non-linearity \"\"\"\n",
    "\n",
    "    def __init__(self, n_embd):\n",
    "        super().__init__()\n",
    "        self.net = nn.Sequential(\n",
    "            nn.Linear(n_embd, 4 * n_embd),\n",
    "            nn.ReLU(),\n",
    "            nn.Linear(4 * n_embd, n_embd),\n",
    "            nn.Dropout(dropout),\n",
    "        )\n",
    "\n",
    "    def forward(self, x):\n",
    "        return self.net(x)\n",
    "\n",
    "class Block(nn.Module):\n",
    "    \"\"\" Transformer block: communication followed by computation \"\"\"\n",
    "\n",
    "    def __init__(self, n_embd, n_head):\n",
    "        # n_embd: embedding dimension, n_head: the number of heads we'd like\n",
    "        super().__init__()\n",
    "        head_size = n_embd // n_head\n",
    "        self.sa = MultiHeadAttention(n_head, head_size)\n",
    "        self.ffwd = FeedFoward(n_embd)\n",
    "        self.ln1 = nn.LayerNorm(n_embd)\n",
    "        self.ln2 = nn.LayerNorm(n_embd)\n",
    "\n",
    "    def forward(self, x):\n",
    "        x = x + self.sa(self.ln1(x))\n",
    "        x = x + self.ffwd(self.ln2(x))\n",
    "        return x\n",
    "\n",
    "class GPTLanguageModel(nn.Module):\n",
    "\n",
    "    def __init__(self):\n",
    "        super().__init__()\n",
    "        # each token directly reads off the logits for the next token from a lookup table\n",
    "        self.token_embedding_table = nn.Embedding(vocab_size, n_embd)\n",
    "        self.position_embedding_table = nn.Embedding(block_size, n_embd)\n",
    "        self.blocks = nn.Sequential(*[Block(n_embd, n_head=n_head) for _ in range(n_layer)])\n",
    "        self.ln_f = nn.LayerNorm(n_embd) # final layer norm\n",
    "        self.lm_head = nn.Linear(n_embd, vocab_size)\n",
    "\n",
    "        self.apply(self._init_weights)\n",
    "\n",
    "    def _init_weights(self, module):\n",
    "        if isinstance(module, nn.Linear):\n",
    "            torch.nn.init.normal_(module.weight, mean=0.0, std=0.02)\n",
    "            if module.bias is not None:\n",
    "                torch.nn.init.zeros_(module.bias)\n",
    "        elif isinstance(module, nn.Embedding):\n",
    "            torch.nn.init.normal_(module.weight, mean=0.0, std=0.02)\n",
    "\n",
    "    def forward(self, idx, targets=None):\n",
    "        B, T = idx.shape\n",
    "\n",
    "        # idx and targets are both (B,T) tensor of integers\n",
    "        tok_emb = self.token_embedding_table(idx) # (B,T,C)\n",
    "        pos_emb = self.position_embedding_table(torch.arange(T, device=device)) # (T,C)\n",
    "        x = tok_emb + pos_emb # (B,T,C)\n",
    "        x = self.blocks(x) # (B,T,C)\n",
    "        x = self.ln_f(x) # (B,T,C)\n",
    "        logits = self.lm_head(x) # (B,T,vocab_size)\n",
    "\n",
    "        if targets is None:\n",
    "            loss = None\n",
    "        else:\n",
    "            B, T, C = logits.shape\n",
    "            logits = logits.view(B*T, C)\n",
    "            targets = targets.view(B*T)\n",
    "            loss = F.cross_entropy(logits, targets)\n",
    "\n",
    "        return logits, loss\n",
    "\n",
    "    def generate(self, idx, max_new_tokens):\n",
    "        # idx is (B, T) array of indices in the current context\n",
    "        for _ in range(max_new_tokens):\n",
    "            # crop idx to the last block_size tokens\n",
    "            idx_cond = idx[:, -block_size:]\n",
    "            # get the predictions\n",
    "            logits, loss = self(idx_cond)\n",
    "            # focus only on the last time step\n",
    "            logits = logits[:, -1, :] # becomes (B, C)\n",
    "            # apply softmax to get probabilities\n",
    "            probs = F.softmax(logits, dim=-1) # (B, C)\n",
    "            # sample from the distribution\n",
    "            idx_next = torch.multinomial(probs, num_samples=1) # (B, 1)\n",
    "            # append sampled index to the running sequence\n",
    "            idx = torch.cat((idx, idx_next), dim=1) # (B, T+1)\n",
    "        return idx\n",
    "\n",
    "model = GPTLanguageModel()\n",
    "m = model.to(device)\n",
    "# printing the number of parameters in the model\n",
    "print(sum(p.numel() for p in m.parameters())/1e6, 'M parameters')\n",
    "\n",
    "# creating a PyTorch optimizer\n",
    "optimizer = torch.optim.AdamW(model.parameters(), lr=learning_rate)\n",
    "\n",
    "for iter in range(max_iters):\n",
    "\n",
    "    # every once in a while evaluate the loss on train and val sets\n",
    "    if iter % eval_interval == 0 or iter == max_iters - 1:\n",
    "        losses = estimate_loss()\n",
    "        print(f\"step {iter}: train loss {losses['train']:.4f}, val loss {losses['val']:.4f}\")\n",
    "\n",
    "    # sampling a batch of data\n",
    "    xb, yb = get_batch('train')\n",
    "\n",
    "    # evaluating the loss\n",
    "    logits, loss = model(xb, yb)\n",
    "    optimizer.zero_grad(set_to_none=True)\n",
    "    loss.backward()\n",
    "    optimizer.step()\n",
    "\n",
    "# generating from the model\n",
    "context = torch.zeros((1, 1), dtype=torch.long, device=device)\n",
    "print(decode(m.generate(context, max_new_tokens=500)[0].tolist()))\n",
    "#open('more.txt', 'w').write(decode(m.generate(context, max_new_tokens=10000)[0].tolist()))"
   ]
  }
 ],
 "metadata": {
  "colab": {
   "provenance": []
  },
  "kaggle": {
   "accelerator": "nvidiaTeslaT4",
   "dataSources": [
    {
     "datasetId": 8007698,
     "sourceId": 12671523,
     "sourceType": "datasetVersion"
    }
   ],
   "dockerImageVersionId": 31089,
   "isGpuEnabled": true,
   "isInternetEnabled": true,
   "language": "python",
   "sourceType": "notebook"
  },
  "kernelspec": {
   "display_name": "Python 3",
   "language": "python",
   "name": "python3"
  },
  "language_info": {
   "codemirror_mode": {
    "name": "ipython",
    "version": 3
   },
   "file_extension": ".py",
   "mimetype": "text/x-python",
   "name": "python",
   "nbconvert_exporter": "python",
   "pygments_lexer": "ipython3",
   "version": "3.11.13"
  },
  "papermill": {
   "default_parameters": {},
   "duration": 3623.739525,
   "end_time": "2025-08-06T19:09:45.411113",
   "environment_variables": {},
   "exception": null,
   "input_path": "__notebook__.ipynb",
   "output_path": "__notebook__.ipynb",
   "parameters": {},
   "start_time": "2025-08-06T18:09:21.671588",
   "version": "2.6.0"
  }
 },
 "nbformat": 4,
 "nbformat_minor": 5
}
